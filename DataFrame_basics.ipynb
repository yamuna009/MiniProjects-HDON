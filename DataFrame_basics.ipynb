{
 "cells": [
  {
   "cell_type": "code",
   "execution_count": 1,
   "id": "60ca507f",
   "metadata": {},
   "outputs": [],
   "source": [
    "import pandas as pd"
   ]
  },
  {
   "cell_type": "code",
   "execution_count": 4,
   "id": "6211b9cf",
   "metadata": {},
   "outputs": [],
   "source": [
    "df = pd.read_csv(\"D:\\csv_data.csv\")"
   ]
  },
  {
   "cell_type": "code",
   "execution_count": 5,
   "id": "6977095d",
   "metadata": {},
   "outputs": [
    {
     "data": {
      "text/html": [
       "<div>\n",
       "<style scoped>\n",
       "    .dataframe tbody tr th:only-of-type {\n",
       "        vertical-align: middle;\n",
       "    }\n",
       "\n",
       "    .dataframe tbody tr th {\n",
       "        vertical-align: top;\n",
       "    }\n",
       "\n",
       "    .dataframe thead th {\n",
       "        text-align: right;\n",
       "    }\n",
       "</style>\n",
       "<table border=\"1\" class=\"dataframe\">\n",
       "  <thead>\n",
       "    <tr style=\"text-align: right;\">\n",
       "      <th></th>\n",
       "      <th>label</th>\n",
       "      <th>coordinates.x</th>\n",
       "      <th>coordinates.y</th>\n",
       "      <th>coordinates.width</th>\n",
       "      <th>coordinates.height</th>\n",
       "      <th>image</th>\n",
       "    </tr>\n",
       "  </thead>\n",
       "  <tbody>\n",
       "    <tr>\n",
       "      <th>0</th>\n",
       "      <td>bank</td>\n",
       "      <td>232.693662</td>\n",
       "      <td>1987.890845</td>\n",
       "      <td>240.612676</td>\n",
       "      <td>30.21831</td>\n",
       "      <td>1207084_PROD_SH_New Mapping.jpg</td>\n",
       "    </tr>\n",
       "    <tr>\n",
       "      <th>1</th>\n",
       "      <td>ddate</td>\n",
       "      <td>304.193662</td>\n",
       "      <td>1789.890845</td>\n",
       "      <td>391.612676</td>\n",
       "      <td>34.21831</td>\n",
       "      <td>1207084_PROD_SH_New Mapping.jpg</td>\n",
       "    </tr>\n",
       "    <tr>\n",
       "      <th>2</th>\n",
       "      <td>swift</td>\n",
       "      <td>244.693662</td>\n",
       "      <td>2092.890845</td>\n",
       "      <td>284.612676</td>\n",
       "      <td>33.78169</td>\n",
       "      <td>1207084_PROD_SH_New Mapping.jpg</td>\n",
       "    </tr>\n",
       "    <tr>\n",
       "      <th>3</th>\n",
       "      <td>code</td>\n",
       "      <td>236.193662</td>\n",
       "      <td>2059.890845</td>\n",
       "      <td>255.612676</td>\n",
       "      <td>33.78169</td>\n",
       "      <td>1207084_PROD_SH_New Mapping.jpg</td>\n",
       "    </tr>\n",
       "    <tr>\n",
       "      <th>4</th>\n",
       "      <td>account</td>\n",
       "      <td>290.693662</td>\n",
       "      <td>2022.890845</td>\n",
       "      <td>358.612676</td>\n",
       "      <td>43.78169</td>\n",
       "      <td>1207084_PROD_SH_New Mapping.jpg</td>\n",
       "    </tr>\n",
       "    <tr>\n",
       "      <th>5</th>\n",
       "      <td>iban</td>\n",
       "      <td>345.693662</td>\n",
       "      <td>2129.390845</td>\n",
       "      <td>472.612676</td>\n",
       "      <td>32.78169</td>\n",
       "      <td>1207084_PROD_SH_New Mapping.jpg</td>\n",
       "    </tr>\n",
       "    <tr>\n",
       "      <th>6</th>\n",
       "      <td>invoice</td>\n",
       "      <td>1040.193662</td>\n",
       "      <td>742.390845</td>\n",
       "      <td>353.612676</td>\n",
       "      <td>39.21831</td>\n",
       "      <td>1207084_PROD_SH_New Mapping.jpg</td>\n",
       "    </tr>\n",
       "    <tr>\n",
       "      <th>7</th>\n",
       "      <td>date</td>\n",
       "      <td>998.193662</td>\n",
       "      <td>788.890845</td>\n",
       "      <td>253.612676</td>\n",
       "      <td>37.78169</td>\n",
       "      <td>1207084_PROD_SH_New Mapping.jpg</td>\n",
       "    </tr>\n",
       "    <tr>\n",
       "      <th>8</th>\n",
       "      <td>total</td>\n",
       "      <td>1491.500000</td>\n",
       "      <td>1716.500000</td>\n",
       "      <td>101.000000</td>\n",
       "      <td>41.00000</td>\n",
       "      <td>1207084_PROD_SH_New Mapping.jpg</td>\n",
       "    </tr>\n",
       "    <tr>\n",
       "      <th>9</th>\n",
       "      <td>code</td>\n",
       "      <td>1458.500000</td>\n",
       "      <td>1045.500000</td>\n",
       "      <td>129.000000</td>\n",
       "      <td>47.00000</td>\n",
       "      <td>1207084_PROD_SH_New Mapping.jpg</td>\n",
       "    </tr>\n",
       "  </tbody>\n",
       "</table>\n",
       "</div>"
      ],
      "text/plain": [
       "     label  coordinates.x  coordinates.y  coordinates.width  \\\n",
       "0     bank     232.693662    1987.890845         240.612676   \n",
       "1    ddate     304.193662    1789.890845         391.612676   \n",
       "2    swift     244.693662    2092.890845         284.612676   \n",
       "3     code     236.193662    2059.890845         255.612676   \n",
       "4  account     290.693662    2022.890845         358.612676   \n",
       "5     iban     345.693662    2129.390845         472.612676   \n",
       "6  invoice    1040.193662     742.390845         353.612676   \n",
       "7     date     998.193662     788.890845         253.612676   \n",
       "8    total    1491.500000    1716.500000         101.000000   \n",
       "9     code    1458.500000    1045.500000         129.000000   \n",
       "\n",
       "   coordinates.height                            image  \n",
       "0            30.21831  1207084_PROD_SH_New Mapping.jpg  \n",
       "1            34.21831  1207084_PROD_SH_New Mapping.jpg  \n",
       "2            33.78169  1207084_PROD_SH_New Mapping.jpg  \n",
       "3            33.78169  1207084_PROD_SH_New Mapping.jpg  \n",
       "4            43.78169  1207084_PROD_SH_New Mapping.jpg  \n",
       "5            32.78169  1207084_PROD_SH_New Mapping.jpg  \n",
       "6            39.21831  1207084_PROD_SH_New Mapping.jpg  \n",
       "7            37.78169  1207084_PROD_SH_New Mapping.jpg  \n",
       "8            41.00000  1207084_PROD_SH_New Mapping.jpg  \n",
       "9            47.00000  1207084_PROD_SH_New Mapping.jpg  "
      ]
     },
     "execution_count": 5,
     "metadata": {},
     "output_type": "execute_result"
    }
   ],
   "source": [
    "df"
   ]
  },
  {
   "cell_type": "code",
   "execution_count": 6,
   "id": "79d2e3eb",
   "metadata": {},
   "outputs": [
    {
     "data": {
      "text/html": [
       "<div>\n",
       "<style scoped>\n",
       "    .dataframe tbody tr th:only-of-type {\n",
       "        vertical-align: middle;\n",
       "    }\n",
       "\n",
       "    .dataframe tbody tr th {\n",
       "        vertical-align: top;\n",
       "    }\n",
       "\n",
       "    .dataframe thead th {\n",
       "        text-align: right;\n",
       "    }\n",
       "</style>\n",
       "<table border=\"1\" class=\"dataframe\">\n",
       "  <thead>\n",
       "    <tr style=\"text-align: right;\">\n",
       "      <th></th>\n",
       "      <th>label</th>\n",
       "      <th>coordinates.x</th>\n",
       "      <th>coordinates.y</th>\n",
       "      <th>coordinates.width</th>\n",
       "      <th>coordinates.height</th>\n",
       "      <th>image</th>\n",
       "    </tr>\n",
       "  </thead>\n",
       "  <tbody>\n",
       "    <tr>\n",
       "      <th>0</th>\n",
       "      <td>bank</td>\n",
       "      <td>232.693662</td>\n",
       "      <td>1987.890845</td>\n",
       "      <td>240.612676</td>\n",
       "      <td>30.21831</td>\n",
       "      <td>1207084_PROD_SH_New Mapping.jpg</td>\n",
       "    </tr>\n",
       "    <tr>\n",
       "      <th>1</th>\n",
       "      <td>ddate</td>\n",
       "      <td>304.193662</td>\n",
       "      <td>1789.890845</td>\n",
       "      <td>391.612676</td>\n",
       "      <td>34.21831</td>\n",
       "      <td>1207084_PROD_SH_New Mapping.jpg</td>\n",
       "    </tr>\n",
       "    <tr>\n",
       "      <th>2</th>\n",
       "      <td>swift</td>\n",
       "      <td>244.693662</td>\n",
       "      <td>2092.890845</td>\n",
       "      <td>284.612676</td>\n",
       "      <td>33.78169</td>\n",
       "      <td>1207084_PROD_SH_New Mapping.jpg</td>\n",
       "    </tr>\n",
       "    <tr>\n",
       "      <th>3</th>\n",
       "      <td>code</td>\n",
       "      <td>236.193662</td>\n",
       "      <td>2059.890845</td>\n",
       "      <td>255.612676</td>\n",
       "      <td>33.78169</td>\n",
       "      <td>1207084_PROD_SH_New Mapping.jpg</td>\n",
       "    </tr>\n",
       "    <tr>\n",
       "      <th>4</th>\n",
       "      <td>account</td>\n",
       "      <td>290.693662</td>\n",
       "      <td>2022.890845</td>\n",
       "      <td>358.612676</td>\n",
       "      <td>43.78169</td>\n",
       "      <td>1207084_PROD_SH_New Mapping.jpg</td>\n",
       "    </tr>\n",
       "  </tbody>\n",
       "</table>\n",
       "</div>"
      ],
      "text/plain": [
       "     label  coordinates.x  coordinates.y  coordinates.width  \\\n",
       "0     bank     232.693662    1987.890845         240.612676   \n",
       "1    ddate     304.193662    1789.890845         391.612676   \n",
       "2    swift     244.693662    2092.890845         284.612676   \n",
       "3     code     236.193662    2059.890845         255.612676   \n",
       "4  account     290.693662    2022.890845         358.612676   \n",
       "\n",
       "   coordinates.height                            image  \n",
       "0            30.21831  1207084_PROD_SH_New Mapping.jpg  \n",
       "1            34.21831  1207084_PROD_SH_New Mapping.jpg  \n",
       "2            33.78169  1207084_PROD_SH_New Mapping.jpg  \n",
       "3            33.78169  1207084_PROD_SH_New Mapping.jpg  \n",
       "4            43.78169  1207084_PROD_SH_New Mapping.jpg  "
      ]
     },
     "execution_count": 6,
     "metadata": {},
     "output_type": "execute_result"
    }
   ],
   "source": [
    "df.head()"
   ]
  },
  {
   "cell_type": "code",
   "execution_count": 7,
   "id": "749d9a3b",
   "metadata": {},
   "outputs": [
    {
     "data": {
      "text/html": [
       "<div>\n",
       "<style scoped>\n",
       "    .dataframe tbody tr th:only-of-type {\n",
       "        vertical-align: middle;\n",
       "    }\n",
       "\n",
       "    .dataframe tbody tr th {\n",
       "        vertical-align: top;\n",
       "    }\n",
       "\n",
       "    .dataframe thead th {\n",
       "        text-align: right;\n",
       "    }\n",
       "</style>\n",
       "<table border=\"1\" class=\"dataframe\">\n",
       "  <thead>\n",
       "    <tr style=\"text-align: right;\">\n",
       "      <th></th>\n",
       "      <th>label</th>\n",
       "      <th>coordinates.x</th>\n",
       "      <th>coordinates.y</th>\n",
       "      <th>coordinates.width</th>\n",
       "      <th>coordinates.height</th>\n",
       "      <th>image</th>\n",
       "    </tr>\n",
       "  </thead>\n",
       "  <tbody>\n",
       "    <tr>\n",
       "      <th>5</th>\n",
       "      <td>iban</td>\n",
       "      <td>345.693662</td>\n",
       "      <td>2129.390845</td>\n",
       "      <td>472.612676</td>\n",
       "      <td>32.78169</td>\n",
       "      <td>1207084_PROD_SH_New Mapping.jpg</td>\n",
       "    </tr>\n",
       "    <tr>\n",
       "      <th>6</th>\n",
       "      <td>invoice</td>\n",
       "      <td>1040.193662</td>\n",
       "      <td>742.390845</td>\n",
       "      <td>353.612676</td>\n",
       "      <td>39.21831</td>\n",
       "      <td>1207084_PROD_SH_New Mapping.jpg</td>\n",
       "    </tr>\n",
       "    <tr>\n",
       "      <th>7</th>\n",
       "      <td>date</td>\n",
       "      <td>998.193662</td>\n",
       "      <td>788.890845</td>\n",
       "      <td>253.612676</td>\n",
       "      <td>37.78169</td>\n",
       "      <td>1207084_PROD_SH_New Mapping.jpg</td>\n",
       "    </tr>\n",
       "    <tr>\n",
       "      <th>8</th>\n",
       "      <td>total</td>\n",
       "      <td>1491.500000</td>\n",
       "      <td>1716.500000</td>\n",
       "      <td>101.000000</td>\n",
       "      <td>41.00000</td>\n",
       "      <td>1207084_PROD_SH_New Mapping.jpg</td>\n",
       "    </tr>\n",
       "    <tr>\n",
       "      <th>9</th>\n",
       "      <td>code</td>\n",
       "      <td>1458.500000</td>\n",
       "      <td>1045.500000</td>\n",
       "      <td>129.000000</td>\n",
       "      <td>47.00000</td>\n",
       "      <td>1207084_PROD_SH_New Mapping.jpg</td>\n",
       "    </tr>\n",
       "  </tbody>\n",
       "</table>\n",
       "</div>"
      ],
      "text/plain": [
       "     label  coordinates.x  coordinates.y  coordinates.width  \\\n",
       "5     iban     345.693662    2129.390845         472.612676   \n",
       "6  invoice    1040.193662     742.390845         353.612676   \n",
       "7     date     998.193662     788.890845         253.612676   \n",
       "8    total    1491.500000    1716.500000         101.000000   \n",
       "9     code    1458.500000    1045.500000         129.000000   \n",
       "\n",
       "   coordinates.height                            image  \n",
       "5            32.78169  1207084_PROD_SH_New Mapping.jpg  \n",
       "6            39.21831  1207084_PROD_SH_New Mapping.jpg  \n",
       "7            37.78169  1207084_PROD_SH_New Mapping.jpg  \n",
       "8            41.00000  1207084_PROD_SH_New Mapping.jpg  \n",
       "9            47.00000  1207084_PROD_SH_New Mapping.jpg  "
      ]
     },
     "execution_count": 7,
     "metadata": {},
     "output_type": "execute_result"
    }
   ],
   "source": [
    "df.tail()\n"
   ]
  },
  {
   "cell_type": "code",
   "execution_count": 8,
   "id": "72a4e160",
   "metadata": {},
   "outputs": [
    {
     "data": {
      "text/plain": [
       "pandas.core.frame.DataFrame"
      ]
     },
     "execution_count": 8,
     "metadata": {},
     "output_type": "execute_result"
    }
   ],
   "source": [
    "type(df)"
   ]
  },
  {
   "cell_type": "code",
   "execution_count": 10,
   "id": "2ac38455",
   "metadata": {},
   "outputs": [],
   "source": [
    "#!head \"D:\\csv_data.csv\""
   ]
  },
  {
   "cell_type": "code",
   "execution_count": 11,
   "id": "220727a7",
   "metadata": {},
   "outputs": [
    {
     "data": {
      "text/html": [
       "<div>\n",
       "<style scoped>\n",
       "    .dataframe tbody tr th:only-of-type {\n",
       "        vertical-align: middle;\n",
       "    }\n",
       "\n",
       "    .dataframe tbody tr th {\n",
       "        vertical-align: top;\n",
       "    }\n",
       "\n",
       "    .dataframe thead th {\n",
       "        text-align: right;\n",
       "    }\n",
       "</style>\n",
       "<table border=\"1\" class=\"dataframe\">\n",
       "  <thead>\n",
       "    <tr style=\"text-align: right;\">\n",
       "      <th></th>\n",
       "      <th>label</th>\n",
       "      <th>coordinates.x</th>\n",
       "      <th>coordinates.y</th>\n",
       "      <th>coordinates.width</th>\n",
       "      <th>coordinates.height</th>\n",
       "      <th>image</th>\n",
       "    </tr>\n",
       "  </thead>\n",
       "  <tbody>\n",
       "  </tbody>\n",
       "</table>\n",
       "</div>"
      ],
      "text/plain": [
       "Empty DataFrame\n",
       "Columns: [label, coordinates.x, coordinates.y, coordinates.width, coordinates.height, image]\n",
       "Index: []"
      ]
     },
     "execution_count": 11,
     "metadata": {},
     "output_type": "execute_result"
    }
   ],
   "source": [
    "df.head(0)"
   ]
  },
  {
   "cell_type": "code",
   "execution_count": 12,
   "id": "fe37627d",
   "metadata": {},
   "outputs": [
    {
     "data": {
      "text/html": [
       "<div>\n",
       "<style scoped>\n",
       "    .dataframe tbody tr th:only-of-type {\n",
       "        vertical-align: middle;\n",
       "    }\n",
       "\n",
       "    .dataframe tbody tr th {\n",
       "        vertical-align: top;\n",
       "    }\n",
       "\n",
       "    .dataframe thead th {\n",
       "        text-align: right;\n",
       "    }\n",
       "</style>\n",
       "<table border=\"1\" class=\"dataframe\">\n",
       "  <thead>\n",
       "    <tr style=\"text-align: right;\">\n",
       "      <th></th>\n",
       "      <th>label</th>\n",
       "      <th>coordinates.x</th>\n",
       "      <th>coordinates.y</th>\n",
       "      <th>coordinates.width</th>\n",
       "      <th>coordinates.height</th>\n",
       "      <th>image</th>\n",
       "    </tr>\n",
       "  </thead>\n",
       "  <tbody>\n",
       "    <tr>\n",
       "      <th>0</th>\n",
       "      <td>bank</td>\n",
       "      <td>232.693662</td>\n",
       "      <td>1987.890845</td>\n",
       "      <td>240.612676</td>\n",
       "      <td>30.21831</td>\n",
       "      <td>1207084_PROD_SH_New Mapping.jpg</td>\n",
       "    </tr>\n",
       "    <tr>\n",
       "      <th>1</th>\n",
       "      <td>ddate</td>\n",
       "      <td>304.193662</td>\n",
       "      <td>1789.890845</td>\n",
       "      <td>391.612676</td>\n",
       "      <td>34.21831</td>\n",
       "      <td>1207084_PROD_SH_New Mapping.jpg</td>\n",
       "    </tr>\n",
       "  </tbody>\n",
       "</table>\n",
       "</div>"
      ],
      "text/plain": [
       "   label  coordinates.x  coordinates.y  coordinates.width  coordinates.height  \\\n",
       "0   bank     232.693662    1987.890845         240.612676            30.21831   \n",
       "1  ddate     304.193662    1789.890845         391.612676            34.21831   \n",
       "\n",
       "                             image  \n",
       "0  1207084_PROD_SH_New Mapping.jpg  \n",
       "1  1207084_PROD_SH_New Mapping.jpg  "
      ]
     },
     "execution_count": 12,
     "metadata": {},
     "output_type": "execute_result"
    }
   ],
   "source": [
    "df.head(2)"
   ]
  },
  {
   "cell_type": "code",
   "execution_count": 13,
   "id": "7fb75722",
   "metadata": {},
   "outputs": [
    {
     "name": "stdout",
     "output_type": "stream",
     "text": [
      "<class 'pandas.core.frame.DataFrame'>\n",
      "RangeIndex: 10 entries, 0 to 9\n",
      "Data columns (total 6 columns):\n",
      " #   Column              Non-Null Count  Dtype  \n",
      "---  ------              --------------  -----  \n",
      " 0   label               10 non-null     object \n",
      " 1   coordinates.x       10 non-null     float64\n",
      " 2   coordinates.y       10 non-null     float64\n",
      " 3   coordinates.width   10 non-null     float64\n",
      " 4   coordinates.height  10 non-null     float64\n",
      " 5   image               10 non-null     object \n",
      "dtypes: float64(4), object(2)\n",
      "memory usage: 608.0+ bytes\n"
     ]
    }
   ],
   "source": [
    "df.info() #gives info about no.of.columns, datatypes,and non null count "
   ]
  },
  {
   "cell_type": "code",
   "execution_count": 14,
   "id": "1597f354",
   "metadata": {},
   "outputs": [
    {
     "data": {
      "text/plain": [
       "Index(['label', 'coordinates.x', 'coordinates.y', 'coordinates.width',\n",
       "       'coordinates.height', 'image'],\n",
       "      dtype='object')"
      ]
     },
     "execution_count": 14,
     "metadata": {},
     "output_type": "execute_result"
    }
   ],
   "source": [
    "df.columns"
   ]
  },
  {
   "cell_type": "code",
   "execution_count": 16,
   "id": "912c1e77",
   "metadata": {},
   "outputs": [],
   "source": [
    "df.columns = ['label', 'x', 'y', 'width',\n",
    "       'height', 'image']"
   ]
  },
  {
   "cell_type": "code",
   "execution_count": 17,
   "id": "b49d287e",
   "metadata": {},
   "outputs": [
    {
     "data": {
      "text/html": [
       "<div>\n",
       "<style scoped>\n",
       "    .dataframe tbody tr th:only-of-type {\n",
       "        vertical-align: middle;\n",
       "    }\n",
       "\n",
       "    .dataframe tbody tr th {\n",
       "        vertical-align: top;\n",
       "    }\n",
       "\n",
       "    .dataframe thead th {\n",
       "        text-align: right;\n",
       "    }\n",
       "</style>\n",
       "<table border=\"1\" class=\"dataframe\">\n",
       "  <thead>\n",
       "    <tr style=\"text-align: right;\">\n",
       "      <th></th>\n",
       "      <th>label</th>\n",
       "      <th>x</th>\n",
       "      <th>y</th>\n",
       "      <th>width</th>\n",
       "      <th>height</th>\n",
       "      <th>image</th>\n",
       "    </tr>\n",
       "  </thead>\n",
       "  <tbody>\n",
       "    <tr>\n",
       "      <th>0</th>\n",
       "      <td>bank</td>\n",
       "      <td>232.693662</td>\n",
       "      <td>1987.890845</td>\n",
       "      <td>240.612676</td>\n",
       "      <td>30.21831</td>\n",
       "      <td>1207084_PROD_SH_New Mapping.jpg</td>\n",
       "    </tr>\n",
       "    <tr>\n",
       "      <th>1</th>\n",
       "      <td>ddate</td>\n",
       "      <td>304.193662</td>\n",
       "      <td>1789.890845</td>\n",
       "      <td>391.612676</td>\n",
       "      <td>34.21831</td>\n",
       "      <td>1207084_PROD_SH_New Mapping.jpg</td>\n",
       "    </tr>\n",
       "    <tr>\n",
       "      <th>2</th>\n",
       "      <td>swift</td>\n",
       "      <td>244.693662</td>\n",
       "      <td>2092.890845</td>\n",
       "      <td>284.612676</td>\n",
       "      <td>33.78169</td>\n",
       "      <td>1207084_PROD_SH_New Mapping.jpg</td>\n",
       "    </tr>\n",
       "    <tr>\n",
       "      <th>3</th>\n",
       "      <td>code</td>\n",
       "      <td>236.193662</td>\n",
       "      <td>2059.890845</td>\n",
       "      <td>255.612676</td>\n",
       "      <td>33.78169</td>\n",
       "      <td>1207084_PROD_SH_New Mapping.jpg</td>\n",
       "    </tr>\n",
       "    <tr>\n",
       "      <th>4</th>\n",
       "      <td>account</td>\n",
       "      <td>290.693662</td>\n",
       "      <td>2022.890845</td>\n",
       "      <td>358.612676</td>\n",
       "      <td>43.78169</td>\n",
       "      <td>1207084_PROD_SH_New Mapping.jpg</td>\n",
       "    </tr>\n",
       "  </tbody>\n",
       "</table>\n",
       "</div>"
      ],
      "text/plain": [
       "     label           x            y       width    height  \\\n",
       "0     bank  232.693662  1987.890845  240.612676  30.21831   \n",
       "1    ddate  304.193662  1789.890845  391.612676  34.21831   \n",
       "2    swift  244.693662  2092.890845  284.612676  33.78169   \n",
       "3     code  236.193662  2059.890845  255.612676  33.78169   \n",
       "4  account  290.693662  2022.890845  358.612676  43.78169   \n",
       "\n",
       "                             image  \n",
       "0  1207084_PROD_SH_New Mapping.jpg  \n",
       "1  1207084_PROD_SH_New Mapping.jpg  \n",
       "2  1207084_PROD_SH_New Mapping.jpg  \n",
       "3  1207084_PROD_SH_New Mapping.jpg  \n",
       "4  1207084_PROD_SH_New Mapping.jpg  "
      ]
     },
     "execution_count": 17,
     "metadata": {},
     "output_type": "execute_result"
    }
   ],
   "source": [
    "df.head()"
   ]
  },
  {
   "cell_type": "code",
   "execution_count": 18,
   "id": "faa56be0",
   "metadata": {},
   "outputs": [
    {
     "data": {
      "text/plain": [
       "0       bank\n",
       "1      ddate\n",
       "2      swift\n",
       "3       code\n",
       "4    account\n",
       "5       iban\n",
       "6    invoice\n",
       "7       date\n",
       "8      total\n",
       "9       code\n",
       "Name: label, dtype: object"
      ]
     },
     "execution_count": 18,
     "metadata": {},
     "output_type": "execute_result"
    }
   ],
   "source": [
    "df['label'] # can access single column"
   ]
  },
  {
   "cell_type": "code",
   "execution_count": 20,
   "id": "3d5882ad",
   "metadata": {},
   "outputs": [
    {
     "data": {
      "text/html": [
       "<div>\n",
       "<style scoped>\n",
       "    .dataframe tbody tr th:only-of-type {\n",
       "        vertical-align: middle;\n",
       "    }\n",
       "\n",
       "    .dataframe tbody tr th {\n",
       "        vertical-align: top;\n",
       "    }\n",
       "\n",
       "    .dataframe thead th {\n",
       "        text-align: right;\n",
       "    }\n",
       "</style>\n",
       "<table border=\"1\" class=\"dataframe\">\n",
       "  <thead>\n",
       "    <tr style=\"text-align: right;\">\n",
       "      <th></th>\n",
       "      <th>label</th>\n",
       "      <th>x</th>\n",
       "    </tr>\n",
       "  </thead>\n",
       "  <tbody>\n",
       "    <tr>\n",
       "      <th>0</th>\n",
       "      <td>bank</td>\n",
       "      <td>232.693662</td>\n",
       "    </tr>\n",
       "    <tr>\n",
       "      <th>1</th>\n",
       "      <td>ddate</td>\n",
       "      <td>304.193662</td>\n",
       "    </tr>\n",
       "    <tr>\n",
       "      <th>2</th>\n",
       "      <td>swift</td>\n",
       "      <td>244.693662</td>\n",
       "    </tr>\n",
       "    <tr>\n",
       "      <th>3</th>\n",
       "      <td>code</td>\n",
       "      <td>236.193662</td>\n",
       "    </tr>\n",
       "    <tr>\n",
       "      <th>4</th>\n",
       "      <td>account</td>\n",
       "      <td>290.693662</td>\n",
       "    </tr>\n",
       "    <tr>\n",
       "      <th>5</th>\n",
       "      <td>iban</td>\n",
       "      <td>345.693662</td>\n",
       "    </tr>\n",
       "    <tr>\n",
       "      <th>6</th>\n",
       "      <td>invoice</td>\n",
       "      <td>1040.193662</td>\n",
       "    </tr>\n",
       "    <tr>\n",
       "      <th>7</th>\n",
       "      <td>date</td>\n",
       "      <td>998.193662</td>\n",
       "    </tr>\n",
       "    <tr>\n",
       "      <th>8</th>\n",
       "      <td>total</td>\n",
       "      <td>1491.500000</td>\n",
       "    </tr>\n",
       "    <tr>\n",
       "      <th>9</th>\n",
       "      <td>code</td>\n",
       "      <td>1458.500000</td>\n",
       "    </tr>\n",
       "  </tbody>\n",
       "</table>\n",
       "</div>"
      ],
      "text/plain": [
       "     label            x\n",
       "0     bank   232.693662\n",
       "1    ddate   304.193662\n",
       "2    swift   244.693662\n",
       "3     code   236.193662\n",
       "4  account   290.693662\n",
       "5     iban   345.693662\n",
       "6  invoice  1040.193662\n",
       "7     date   998.193662\n",
       "8    total  1491.500000\n",
       "9     code  1458.500000"
      ]
     },
     "execution_count": 20,
     "metadata": {},
     "output_type": "execute_result"
    }
   ],
   "source": [
    "df[['label', 'x']] # access multiple column values, by list of column names."
   ]
  },
  {
   "cell_type": "code",
   "execution_count": 21,
   "id": "f91eec3a",
   "metadata": {},
   "outputs": [
    {
     "data": {
      "text/plain": [
       "pandas.core.series.Series"
      ]
     },
     "execution_count": 21,
     "metadata": {},
     "output_type": "execute_result"
    }
   ],
   "source": [
    "type(df['label'])"
   ]
  },
  {
   "cell_type": "code",
   "execution_count": 22,
   "id": "4a305b4d",
   "metadata": {},
   "outputs": [
    {
     "data": {
      "text/plain": [
       "pandas.core.frame.DataFrame"
      ]
     },
     "execution_count": 22,
     "metadata": {},
     "output_type": "execute_result"
    }
   ],
   "source": [
    "type(df[['label','x']])"
   ]
  },
  {
   "cell_type": "code",
   "execution_count": null,
   "id": "51909f9c",
   "metadata": {},
   "outputs": [],
   "source": [
    "#in numphy arrays we use square bracket to select rows , but in dataframe\n",
    "# we square brackets to access columns."
   ]
  },
  {
   "cell_type": "code",
   "execution_count": null,
   "id": "c681d94f",
   "metadata": {},
   "outputs": [],
   "source": [
    "#how to access the row in Data frame"
   ]
  },
  {
   "cell_type": "code",
   "execution_count": 23,
   "id": "89e761b2",
   "metadata": {},
   "outputs": [
    {
     "data": {
      "text/plain": [
       "label                                bank\n",
       "x                              232.693662\n",
       "y                             1987.890845\n",
       "width                          240.612676\n",
       "height                           30.21831\n",
       "image     1207084_PROD_SH_New Mapping.jpg\n",
       "Name: 0, dtype: object"
      ]
     },
     "execution_count": 23,
     "metadata": {},
     "output_type": "execute_result"
    }
   ],
   "source": [
    "df.iloc[0]  #displays first record or first row  #selects by indexing"
   ]
  },
  {
   "cell_type": "code",
   "execution_count": 24,
   "id": "07a17017",
   "metadata": {},
   "outputs": [
    {
     "data": {
      "text/plain": [
       "label                                bank\n",
       "x                              232.693662\n",
       "y                             1987.890845\n",
       "width                          240.612676\n",
       "height                           30.21831\n",
       "image     1207084_PROD_SH_New Mapping.jpg\n",
       "Name: 0, dtype: object"
      ]
     },
     "execution_count": 24,
     "metadata": {},
     "output_type": "execute_result"
    }
   ],
   "source": [
    "df.loc[0] # this selects by label"
   ]
  },
  {
   "cell_type": "code",
   "execution_count": 25,
   "id": "810dba8d",
   "metadata": {},
   "outputs": [],
   "source": [
    "df2 = pd.read_csv(\"D:\\csv_data.csv\", index_col = 'label') \n",
    "#changing default index to label column  "
   ]
  },
  {
   "cell_type": "code",
   "execution_count": 26,
   "id": "a526cc89",
   "metadata": {},
   "outputs": [
    {
     "data": {
      "text/html": [
       "<div>\n",
       "<style scoped>\n",
       "    .dataframe tbody tr th:only-of-type {\n",
       "        vertical-align: middle;\n",
       "    }\n",
       "\n",
       "    .dataframe tbody tr th {\n",
       "        vertical-align: top;\n",
       "    }\n",
       "\n",
       "    .dataframe thead th {\n",
       "        text-align: right;\n",
       "    }\n",
       "</style>\n",
       "<table border=\"1\" class=\"dataframe\">\n",
       "  <thead>\n",
       "    <tr style=\"text-align: right;\">\n",
       "      <th></th>\n",
       "      <th>coordinates.x</th>\n",
       "      <th>coordinates.y</th>\n",
       "      <th>coordinates.width</th>\n",
       "      <th>coordinates.height</th>\n",
       "      <th>image</th>\n",
       "    </tr>\n",
       "    <tr>\n",
       "      <th>label</th>\n",
       "      <th></th>\n",
       "      <th></th>\n",
       "      <th></th>\n",
       "      <th></th>\n",
       "      <th></th>\n",
       "    </tr>\n",
       "  </thead>\n",
       "  <tbody>\n",
       "    <tr>\n",
       "      <th>bank</th>\n",
       "      <td>232.693662</td>\n",
       "      <td>1987.890845</td>\n",
       "      <td>240.612676</td>\n",
       "      <td>30.21831</td>\n",
       "      <td>1207084_PROD_SH_New Mapping.jpg</td>\n",
       "    </tr>\n",
       "    <tr>\n",
       "      <th>ddate</th>\n",
       "      <td>304.193662</td>\n",
       "      <td>1789.890845</td>\n",
       "      <td>391.612676</td>\n",
       "      <td>34.21831</td>\n",
       "      <td>1207084_PROD_SH_New Mapping.jpg</td>\n",
       "    </tr>\n",
       "    <tr>\n",
       "      <th>swift</th>\n",
       "      <td>244.693662</td>\n",
       "      <td>2092.890845</td>\n",
       "      <td>284.612676</td>\n",
       "      <td>33.78169</td>\n",
       "      <td>1207084_PROD_SH_New Mapping.jpg</td>\n",
       "    </tr>\n",
       "    <tr>\n",
       "      <th>code</th>\n",
       "      <td>236.193662</td>\n",
       "      <td>2059.890845</td>\n",
       "      <td>255.612676</td>\n",
       "      <td>33.78169</td>\n",
       "      <td>1207084_PROD_SH_New Mapping.jpg</td>\n",
       "    </tr>\n",
       "    <tr>\n",
       "      <th>account</th>\n",
       "      <td>290.693662</td>\n",
       "      <td>2022.890845</td>\n",
       "      <td>358.612676</td>\n",
       "      <td>43.78169</td>\n",
       "      <td>1207084_PROD_SH_New Mapping.jpg</td>\n",
       "    </tr>\n",
       "  </tbody>\n",
       "</table>\n",
       "</div>"
      ],
      "text/plain": [
       "         coordinates.x  coordinates.y  coordinates.width  coordinates.height  \\\n",
       "label                                                                          \n",
       "bank        232.693662    1987.890845         240.612676            30.21831   \n",
       "ddate       304.193662    1789.890845         391.612676            34.21831   \n",
       "swift       244.693662    2092.890845         284.612676            33.78169   \n",
       "code        236.193662    2059.890845         255.612676            33.78169   \n",
       "account     290.693662    2022.890845         358.612676            43.78169   \n",
       "\n",
       "                                   image  \n",
       "label                                     \n",
       "bank     1207084_PROD_SH_New Mapping.jpg  \n",
       "ddate    1207084_PROD_SH_New Mapping.jpg  \n",
       "swift    1207084_PROD_SH_New Mapping.jpg  \n",
       "code     1207084_PROD_SH_New Mapping.jpg  \n",
       "account  1207084_PROD_SH_New Mapping.jpg  "
      ]
     },
     "execution_count": 26,
     "metadata": {},
     "output_type": "execute_result"
    }
   ],
   "source": [
    "df2.head()"
   ]
  },
  {
   "cell_type": "code",
   "execution_count": 27,
   "id": "c99c4c13",
   "metadata": {},
   "outputs": [
    {
     "data": {
      "text/html": [
       "<div>\n",
       "<style scoped>\n",
       "    .dataframe tbody tr th:only-of-type {\n",
       "        vertical-align: middle;\n",
       "    }\n",
       "\n",
       "    .dataframe tbody tr th {\n",
       "        vertical-align: top;\n",
       "    }\n",
       "\n",
       "    .dataframe thead th {\n",
       "        text-align: right;\n",
       "    }\n",
       "</style>\n",
       "<table border=\"1\" class=\"dataframe\">\n",
       "  <thead>\n",
       "    <tr style=\"text-align: right;\">\n",
       "      <th></th>\n",
       "      <th>coordinates.x</th>\n",
       "      <th>coordinates.y</th>\n",
       "      <th>coordinates.width</th>\n",
       "      <th>coordinates.height</th>\n",
       "      <th>image</th>\n",
       "    </tr>\n",
       "    <tr>\n",
       "      <th>label</th>\n",
       "      <th></th>\n",
       "      <th></th>\n",
       "      <th></th>\n",
       "      <th></th>\n",
       "      <th></th>\n",
       "    </tr>\n",
       "  </thead>\n",
       "  <tbody>\n",
       "    <tr>\n",
       "      <th>code</th>\n",
       "      <td>236.193662</td>\n",
       "      <td>2059.890845</td>\n",
       "      <td>255.612676</td>\n",
       "      <td>33.78169</td>\n",
       "      <td>1207084_PROD_SH_New Mapping.jpg</td>\n",
       "    </tr>\n",
       "    <tr>\n",
       "      <th>code</th>\n",
       "      <td>1458.500000</td>\n",
       "      <td>1045.500000</td>\n",
       "      <td>129.000000</td>\n",
       "      <td>47.00000</td>\n",
       "      <td>1207084_PROD_SH_New Mapping.jpg</td>\n",
       "    </tr>\n",
       "  </tbody>\n",
       "</table>\n",
       "</div>"
      ],
      "text/plain": [
       "       coordinates.x  coordinates.y  coordinates.width  coordinates.height  \\\n",
       "label                                                                        \n",
       "code      236.193662    2059.890845         255.612676            33.78169   \n",
       "code     1458.500000    1045.500000         129.000000            47.00000   \n",
       "\n",
       "                                 image  \n",
       "label                                   \n",
       "code   1207084_PROD_SH_New Mapping.jpg  \n",
       "code   1207084_PROD_SH_New Mapping.jpg  "
      ]
     },
     "execution_count": 27,
     "metadata": {},
     "output_type": "execute_result"
    }
   ],
   "source": [
    "df2.loc['code']"
   ]
  },
  {
   "cell_type": "code",
   "execution_count": 28,
   "id": "dc2399ef",
   "metadata": {},
   "outputs": [
    {
     "data": {
      "text/plain": [
       "pandas.core.frame.DataFrame"
      ]
     },
     "execution_count": 28,
     "metadata": {},
     "output_type": "execute_result"
    }
   ],
   "source": [
    "type(df2.loc['code'])"
   ]
  },
  {
   "cell_type": "code",
   "execution_count": 30,
   "id": "9f346c74",
   "metadata": {},
   "outputs": [
    {
     "data": {
      "text/html": [
       "<div>\n",
       "<style scoped>\n",
       "    .dataframe tbody tr th:only-of-type {\n",
       "        vertical-align: middle;\n",
       "    }\n",
       "\n",
       "    .dataframe tbody tr th {\n",
       "        vertical-align: top;\n",
       "    }\n",
       "\n",
       "    .dataframe thead th {\n",
       "        text-align: right;\n",
       "    }\n",
       "</style>\n",
       "<table border=\"1\" class=\"dataframe\">\n",
       "  <thead>\n",
       "    <tr style=\"text-align: right;\">\n",
       "      <th></th>\n",
       "      <th>label</th>\n",
       "      <th>x</th>\n",
       "      <th>y</th>\n",
       "      <th>width</th>\n",
       "      <th>height</th>\n",
       "      <th>image</th>\n",
       "    </tr>\n",
       "  </thead>\n",
       "  <tbody>\n",
       "    <tr>\n",
       "      <th>1</th>\n",
       "      <td>ddate</td>\n",
       "      <td>304.193662</td>\n",
       "      <td>1789.890845</td>\n",
       "      <td>391.612676</td>\n",
       "      <td>34.21831</td>\n",
       "      <td>1207084_PROD_SH_New Mapping.jpg</td>\n",
       "    </tr>\n",
       "    <tr>\n",
       "      <th>4</th>\n",
       "      <td>account</td>\n",
       "      <td>290.693662</td>\n",
       "      <td>2022.890845</td>\n",
       "      <td>358.612676</td>\n",
       "      <td>43.78169</td>\n",
       "      <td>1207084_PROD_SH_New Mapping.jpg</td>\n",
       "    </tr>\n",
       "    <tr>\n",
       "      <th>5</th>\n",
       "      <td>iban</td>\n",
       "      <td>345.693662</td>\n",
       "      <td>2129.390845</td>\n",
       "      <td>472.612676</td>\n",
       "      <td>32.78169</td>\n",
       "      <td>1207084_PROD_SH_New Mapping.jpg</td>\n",
       "    </tr>\n",
       "    <tr>\n",
       "      <th>6</th>\n",
       "      <td>invoice</td>\n",
       "      <td>1040.193662</td>\n",
       "      <td>742.390845</td>\n",
       "      <td>353.612676</td>\n",
       "      <td>39.21831</td>\n",
       "      <td>1207084_PROD_SH_New Mapping.jpg</td>\n",
       "    </tr>\n",
       "  </tbody>\n",
       "</table>\n",
       "</div>"
      ],
      "text/plain": [
       "     label            x            y       width    height  \\\n",
       "1    ddate   304.193662  1789.890845  391.612676  34.21831   \n",
       "4  account   290.693662  2022.890845  358.612676  43.78169   \n",
       "5     iban   345.693662  2129.390845  472.612676  32.78169   \n",
       "6  invoice  1040.193662   742.390845  353.612676  39.21831   \n",
       "\n",
       "                             image  \n",
       "1  1207084_PROD_SH_New Mapping.jpg  \n",
       "4  1207084_PROD_SH_New Mapping.jpg  \n",
       "5  1207084_PROD_SH_New Mapping.jpg  \n",
       "6  1207084_PROD_SH_New Mapping.jpg  "
      ]
     },
     "execution_count": 30,
     "metadata": {},
     "output_type": "execute_result"
    }
   ],
   "source": [
    "df[df['width'] >300] # I want all the rows for width greter than 300"
   ]
  },
  {
   "cell_type": "code",
   "execution_count": 32,
   "id": "ed03bc51",
   "metadata": {},
   "outputs": [
    {
     "data": {
      "text/html": [
       "<div>\n",
       "<style scoped>\n",
       "    .dataframe tbody tr th:only-of-type {\n",
       "        vertical-align: middle;\n",
       "    }\n",
       "\n",
       "    .dataframe tbody tr th {\n",
       "        vertical-align: top;\n",
       "    }\n",
       "\n",
       "    .dataframe thead th {\n",
       "        text-align: right;\n",
       "    }\n",
       "</style>\n",
       "<table border=\"1\" class=\"dataframe\">\n",
       "  <thead>\n",
       "    <tr style=\"text-align: right;\">\n",
       "      <th></th>\n",
       "      <th>label</th>\n",
       "      <th>x</th>\n",
       "      <th>y</th>\n",
       "      <th>width</th>\n",
       "      <th>height</th>\n",
       "      <th>image</th>\n",
       "    </tr>\n",
       "  </thead>\n",
       "  <tbody>\n",
       "    <tr>\n",
       "      <th>1</th>\n",
       "      <td>ddate</td>\n",
       "      <td>304.193662</td>\n",
       "      <td>1789.890845</td>\n",
       "      <td>391.612676</td>\n",
       "      <td>34.21831</td>\n",
       "      <td>1207084_PROD_SH_New Mapping.jpg</td>\n",
       "    </tr>\n",
       "  </tbody>\n",
       "</table>\n",
       "</div>"
      ],
      "text/plain": [
       "   label           x            y       width    height  \\\n",
       "1  ddate  304.193662  1789.890845  391.612676  34.21831   \n",
       "\n",
       "                             image  \n",
       "1  1207084_PROD_SH_New Mapping.jpg  "
      ]
     },
     "execution_count": 32,
     "metadata": {},
     "output_type": "execute_result"
    }
   ],
   "source": [
    "df[df['label'] == 'ddate']"
   ]
  },
  {
   "cell_type": "code",
   "execution_count": 35,
   "id": "e18227f6",
   "metadata": {},
   "outputs": [],
   "source": [
    "import numpy as np"
   ]
  },
  {
   "cell_type": "code",
   "execution_count": 36,
   "id": "3a199a0f",
   "metadata": {},
   "outputs": [
    {
     "data": {
      "text/plain": [
       "array([0, 1, 2, 3, 4, 5, 6, 7, 8, 9])"
      ]
     },
     "execution_count": 36,
     "metadata": {},
     "output_type": "execute_result"
    }
   ],
   "source": [
    "A = np.arange(10)\n",
    "A"
   ]
  },
  {
   "cell_type": "code",
   "execution_count": 37,
   "id": "06b3d5ff",
   "metadata": {},
   "outputs": [
    {
     "data": {
      "text/plain": [
       "array([0, 2, 4, 6, 8])"
      ]
     },
     "execution_count": 37,
     "metadata": {},
     "output_type": "execute_result"
    }
   ],
   "source": [
    "A[A % 2 == 0] #works like data frame"
   ]
  },
  {
   "cell_type": "code",
   "execution_count": 38,
   "id": "e77ab921",
   "metadata": {},
   "outputs": [
    {
     "data": {
      "text/plain": [
       "array([['bank', 232.6936619718, 1987.8908450704, 240.6126760563,\n",
       "        30.2183098592, '1207084_PROD_SH_New Mapping.jpg'],\n",
       "       ['ddate', 304.1936619718, 1789.8908450704, 391.6126760563,\n",
       "        34.2183098592, '1207084_PROD_SH_New Mapping.jpg'],\n",
       "       ['swift', 244.6936619718, 2092.8908450704, 284.6126760563,\n",
       "        33.7816901408, '1207084_PROD_SH_New Mapping.jpg'],\n",
       "       ['code', 236.1936619718, 2059.8908450704, 255.6126760563,\n",
       "        33.7816901408, '1207084_PROD_SH_New Mapping.jpg'],\n",
       "       ['account', 290.6936619718, 2022.8908450704, 358.6126760563,\n",
       "        43.7816901408, '1207084_PROD_SH_New Mapping.jpg'],\n",
       "       ['iban', 345.6936619718, 2129.3908450704, 472.6126760563,\n",
       "        32.7816901408, '1207084_PROD_SH_New Mapping.jpg'],\n",
       "       ['invoice', 1040.1936619718, 742.3908450704, 353.6126760563,\n",
       "        39.2183098592, '1207084_PROD_SH_New Mapping.jpg'],\n",
       "       ['date', 998.1936619718, 788.8908450704, 253.6126760563,\n",
       "        37.7816901408, '1207084_PROD_SH_New Mapping.jpg'],\n",
       "       ['total', 1491.5, 1716.5, 101.0, 41.0,\n",
       "        '1207084_PROD_SH_New Mapping.jpg'],\n",
       "       ['code', 1458.5, 1045.5, 129.0, 47.0,\n",
       "        '1207084_PROD_SH_New Mapping.jpg']], dtype=object)"
      ]
     },
     "execution_count": 38,
     "metadata": {},
     "output_type": "execute_result"
    }
   ],
   "source": [
    "df.values"
   ]
  },
  {
   "cell_type": "code",
   "execution_count": 39,
   "id": "99311dfe",
   "metadata": {},
   "outputs": [],
   "source": [
    "A = df[['x','y']].values #assigningdf value to numphy"
   ]
  },
  {
   "cell_type": "code",
   "execution_count": 40,
   "id": "e72b7729",
   "metadata": {},
   "outputs": [
    {
     "data": {
      "text/plain": [
       "array([[ 232.69366197, 1987.89084507],\n",
       "       [ 304.19366197, 1789.89084507],\n",
       "       [ 244.69366197, 2092.89084507],\n",
       "       [ 236.19366197, 2059.89084507],\n",
       "       [ 290.69366197, 2022.89084507],\n",
       "       [ 345.69366197, 2129.39084507],\n",
       "       [1040.19366197,  742.39084507],\n",
       "       [ 998.19366197,  788.89084507],\n",
       "       [1491.5       , 1716.5       ],\n",
       "       [1458.5       , 1045.5       ]])"
      ]
     },
     "execution_count": 40,
     "metadata": {},
     "output_type": "execute_result"
    }
   ],
   "source": [
    "A"
   ]
  },
  {
   "cell_type": "code",
   "execution_count": 42,
   "id": "1b6a1fdb",
   "metadata": {},
   "outputs": [],
   "source": [
    "A2 = df[['label','x']]\n",
    "A2.to_csv(\"D:\\output_df.csv\")"
   ]
  },
  {
   "cell_type": "code",
   "execution_count": 43,
   "id": "7b056732",
   "metadata": {},
   "outputs": [
    {
     "data": {
      "text/plain": [
       "pandas.core.frame.DataFrame"
      ]
     },
     "execution_count": 43,
     "metadata": {},
     "output_type": "execute_result"
    }
   ],
   "source": [
    "type(A2)"
   ]
  },
  {
   "cell_type": "code",
   "execution_count": null,
   "id": "c64ad026",
   "metadata": {},
   "outputs": [],
   "source": [
    "#sect -2 apply() function, if i want to apply some operation\n",
    "# in each row of a data frame or column of data frame"
   ]
  },
  {
   "cell_type": "code",
   "execution_count": 50,
   "id": "660a463b",
   "metadata": {},
   "outputs": [
    {
     "data": {
      "text/plain": [
       "0    1207084\n",
       "1    1207084\n",
       "2    1207084\n",
       "3    1207084\n",
       "4    1207084\n",
       "5    1207084\n",
       "6    1207084\n",
       "7    1207084\n",
       "8    1207084\n",
       "9    1207084\n",
       "dtype: object"
      ]
     },
     "execution_count": 50,
     "metadata": {},
     "output_type": "execute_result"
    }
   ],
   "source": [
    "def date_to_year(row):\n",
    "    return str(row['image'].split('_')[0])\n",
    "df.apply(date_to_year, axis=1)"
   ]
  },
  {
   "cell_type": "code",
   "execution_count": 51,
   "id": "a968906d",
   "metadata": {},
   "outputs": [
    {
     "data": {
      "text/plain": [
       "0    1207084_PROD_SH_New Mapping.jpg\n",
       "1    1207084_PROD_SH_New Mapping.jpg\n",
       "2    1207084_PROD_SH_New Mapping.jpg\n",
       "3    1207084_PROD_SH_New Mapping.jpg\n",
       "4    1207084_PROD_SH_New Mapping.jpg\n",
       "5    1207084_PROD_SH_New Mapping.jpg\n",
       "6    1207084_PROD_SH_New Mapping.jpg\n",
       "7    1207084_PROD_SH_New Mapping.jpg\n",
       "8    1207084_PROD_SH_New Mapping.jpg\n",
       "9    1207084_PROD_SH_New Mapping.jpg\n",
       "Name: image, dtype: object"
      ]
     },
     "execution_count": 51,
     "metadata": {},
     "output_type": "execute_result"
    }
   ],
   "source": [
    "df['image']"
   ]
  },
  {
   "cell_type": "code",
   "execution_count": 52,
   "id": "f7cae7e9",
   "metadata": {},
   "outputs": [],
   "source": [
    "df['cus_code'] = df.apply(date_to_year, axis=1)"
   ]
  },
  {
   "cell_type": "code",
   "execution_count": 53,
   "id": "828bf5b4",
   "metadata": {},
   "outputs": [
    {
     "data": {
      "text/html": [
       "<div>\n",
       "<style scoped>\n",
       "    .dataframe tbody tr th:only-of-type {\n",
       "        vertical-align: middle;\n",
       "    }\n",
       "\n",
       "    .dataframe tbody tr th {\n",
       "        vertical-align: top;\n",
       "    }\n",
       "\n",
       "    .dataframe thead th {\n",
       "        text-align: right;\n",
       "    }\n",
       "</style>\n",
       "<table border=\"1\" class=\"dataframe\">\n",
       "  <thead>\n",
       "    <tr style=\"text-align: right;\">\n",
       "      <th></th>\n",
       "      <th>label</th>\n",
       "      <th>x</th>\n",
       "      <th>y</th>\n",
       "      <th>width</th>\n",
       "      <th>height</th>\n",
       "      <th>image</th>\n",
       "      <th>cus_code</th>\n",
       "    </tr>\n",
       "  </thead>\n",
       "  <tbody>\n",
       "    <tr>\n",
       "      <th>0</th>\n",
       "      <td>bank</td>\n",
       "      <td>232.693662</td>\n",
       "      <td>1987.890845</td>\n",
       "      <td>240.612676</td>\n",
       "      <td>30.21831</td>\n",
       "      <td>1207084_PROD_SH_New Mapping.jpg</td>\n",
       "      <td>1207084</td>\n",
       "    </tr>\n",
       "    <tr>\n",
       "      <th>1</th>\n",
       "      <td>ddate</td>\n",
       "      <td>304.193662</td>\n",
       "      <td>1789.890845</td>\n",
       "      <td>391.612676</td>\n",
       "      <td>34.21831</td>\n",
       "      <td>1207084_PROD_SH_New Mapping.jpg</td>\n",
       "      <td>1207084</td>\n",
       "    </tr>\n",
       "    <tr>\n",
       "      <th>2</th>\n",
       "      <td>swift</td>\n",
       "      <td>244.693662</td>\n",
       "      <td>2092.890845</td>\n",
       "      <td>284.612676</td>\n",
       "      <td>33.78169</td>\n",
       "      <td>1207084_PROD_SH_New Mapping.jpg</td>\n",
       "      <td>1207084</td>\n",
       "    </tr>\n",
       "    <tr>\n",
       "      <th>3</th>\n",
       "      <td>code</td>\n",
       "      <td>236.193662</td>\n",
       "      <td>2059.890845</td>\n",
       "      <td>255.612676</td>\n",
       "      <td>33.78169</td>\n",
       "      <td>1207084_PROD_SH_New Mapping.jpg</td>\n",
       "      <td>1207084</td>\n",
       "    </tr>\n",
       "    <tr>\n",
       "      <th>4</th>\n",
       "      <td>account</td>\n",
       "      <td>290.693662</td>\n",
       "      <td>2022.890845</td>\n",
       "      <td>358.612676</td>\n",
       "      <td>43.78169</td>\n",
       "      <td>1207084_PROD_SH_New Mapping.jpg</td>\n",
       "      <td>1207084</td>\n",
       "    </tr>\n",
       "  </tbody>\n",
       "</table>\n",
       "</div>"
      ],
      "text/plain": [
       "     label           x            y       width    height  \\\n",
       "0     bank  232.693662  1987.890845  240.612676  30.21831   \n",
       "1    ddate  304.193662  1789.890845  391.612676  34.21831   \n",
       "2    swift  244.693662  2092.890845  284.612676  33.78169   \n",
       "3     code  236.193662  2059.890845  255.612676  33.78169   \n",
       "4  account  290.693662  2022.890845  358.612676  43.78169   \n",
       "\n",
       "                             image cus_code  \n",
       "0  1207084_PROD_SH_New Mapping.jpg  1207084  \n",
       "1  1207084_PROD_SH_New Mapping.jpg  1207084  \n",
       "2  1207084_PROD_SH_New Mapping.jpg  1207084  \n",
       "3  1207084_PROD_SH_New Mapping.jpg  1207084  \n",
       "4  1207084_PROD_SH_New Mapping.jpg  1207084  "
      ]
     },
     "execution_count": 53,
     "metadata": {},
     "output_type": "execute_result"
    }
   ],
   "source": [
    "df.head()"
   ]
  },
  {
   "cell_type": "code",
   "execution_count": null,
   "id": "152fb54b",
   "metadata": {},
   "outputs": [],
   "source": [
    "#plotting with pandas is easy"
   ]
  },
  {
   "cell_type": "code",
   "execution_count": 54,
   "id": "968cdab3",
   "metadata": {},
   "outputs": [
    {
     "data": {
      "image/png": "[encoded data removed]",
      "text/plain": [
       "<Figure size 640x480 with 1 Axes>"
      ]
     },
     "metadata": {},
     "output_type": "display_data"
    }
   ],
   "source": [
    "df['x'].hist();"
   ]
  },
  {
   "cell_type": "code",
   "execution_count": 55,
   "id": "1cd189e2",
   "metadata": {},
   "outputs": [
    {
     "data": {
      "image/png": "[encoded data removed]",
      "text/plain": [
       "<Figure size 640x480 with 1 Axes>"
      ]
     },
     "metadata": {},
     "output_type": "display_data"
    }
   ],
   "source": [
    "df['x'].plot();"
   ]
  },
  {
   "cell_type": "code",
   "execution_count": 57,
   "id": "c89ebfd0",
   "metadata": {},
   "outputs": [
    {
     "data": {
      "image/png": "[encoded data removed]",
      "text/plain": [
       "<Figure size 640x480 with 1 Axes>"
      ]
     },
     "metadata": {},
     "output_type": "display_data"
    }
   ],
   "source": [
    "df[['x', 'y', 'width', 'height']].plot.box();"
   ]
  },
  {
   "cell_type": "code",
   "execution_count": 59,
   "id": "61e1d58d",
   "metadata": {},
   "outputs": [
    {
     "data": {
      "image/png": "[encoded data removed]",
      "text/plain": [
       "<Figure size 600x600 with 16 Axes>"
      ]
     },
     "metadata": {},
     "output_type": "display_data"
    }
   ],
   "source": [
    "from pandas.plotting import scatter_matrix\n",
    "scatter_matrix(df[['x', 'y', 'width', 'height']], alpha = 0.2, figsize=(6,6));"
   ]
  },
  {
   "cell_type": "code",
   "execution_count": null,
   "id": "3c6e1fb2",
   "metadata": {},
   "outputs": [],
   "source": []
  }
 ],
 "metadata": {
  "kernelspec": {
   "display_name": "Python 3 (ipykernel)",
   "language": "python",
   "name": "python3"
  },
  "language_info": {
   "codemirror_mode": {
    "name": "ipython",
    "version": 3
   },
   "file_extension": ".py",
   "mimetype": "text/x-python",
   "name": "python",
   "nbconvert_exporter": "python",
   "pygments_lexer": "ipython3",
   "version": "3.8.18"
  }
 },
 "nbformat": 4,
 "nbformat_minor": 5
}
