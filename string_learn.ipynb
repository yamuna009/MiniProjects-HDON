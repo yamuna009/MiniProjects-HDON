{
 "cells": [
  {
   "cell_type": "code",
   "execution_count": 1,
   "id": "f4c757aa",
   "metadata": {},
   "outputs": [],
   "source": [
    "#string and predefine methods  # strings are immutable"
   ]
  },
  {
   "cell_type": "code",
   "execution_count": 2,
   "id": "a4d2dfe6",
   "metadata": {},
   "outputs": [
    {
     "data": {
      "text/plain": [
       "str"
      ]
     },
     "execution_count": 2,
     "metadata": {},
     "output_type": "execute_result"
    }
   ],
   "source": [
    "a= 'This is my python class'\n",
    "type(a)"
   ]
  },
  {
   "cell_type": "code",
   "execution_count": 3,
   "id": "b30f3ec3",
   "metadata": {},
   "outputs": [],
   "source": [
    "#when function is defined inside the class it is \n",
    "#called as methos because of reasons like local and global scope."
   ]
  },
  {
   "cell_type": "code",
   "execution_count": 4,
   "id": "3946560b",
   "metadata": {},
   "outputs": [],
   "source": [
    "#local scope - \n",
    "#global scope - "
   ]
  },
  {
   "cell_type": "code",
   "execution_count": 5,
   "id": "348cc51b",
   "metadata": {},
   "outputs": [],
   "source": [
    "#function can be called any where ,\n",
    "#but method have contraints like it limited to having scope of class"
   ]
  },
  {
   "cell_type": "code",
   "execution_count": 6,
   "id": "524edb6b",
   "metadata": {},
   "outputs": [
    {
     "data": {
      "text/plain": [
       "'This Is My Python Class'"
      ]
     },
     "execution_count": 6,
     "metadata": {},
     "output_type": "execute_result"
    }
   ],
   "source": [
    "a.title() # here resultant string will be assigned to a new memory location and \n",
    "#string variable 'a' will not be modified"
   ]
  },
  {
   "cell_type": "code",
   "execution_count": 7,
   "id": "1914582c",
   "metadata": {},
   "outputs": [
    {
     "name": "stdout",
     "output_type": "stream",
     "text": [
      "This Is My Python Class\n"
     ]
    },
    {
     "data": {
      "text/plain": [
       "2259052621184"
      ]
     },
     "execution_count": 7,
     "metadata": {},
     "output_type": "execute_result"
    }
   ],
   "source": [
    "b=a.title()\n",
    "print(b)\n",
    "id(b)     #prints is an integer representing the address,\n",
    "#not the actual hexadecimal address. To print the real memory \n",
    "#location of a variable in hexadecimal format, you can convert the \n",
    "#value returned by id() to a hexadecimal string."
   ]
  },
  {
   "cell_type": "code",
   "execution_count": 8,
   "id": "3f9bb635",
   "metadata": {},
   "outputs": [
    {
     "name": "stdout",
     "output_type": "stream",
     "text": [
      "This is my python class\n"
     ]
    },
    {
     "data": {
      "text/plain": [
       "2259052612624"
      ]
     },
     "execution_count": 8,
     "metadata": {},
     "output_type": "execute_result"
    }
   ],
   "source": [
    "print(a)\n",
    "id(a)"
   ]
  },
  {
   "cell_type": "code",
   "execution_count": 9,
   "id": "a6e67949",
   "metadata": {},
   "outputs": [
    {
     "data": {
      "text/plain": [
       "'This is my python class'"
      ]
     },
     "execution_count": 9,
     "metadata": {},
     "output_type": "execute_result"
    }
   ],
   "source": [
    "a.capitalize()"
   ]
  },
  {
   "cell_type": "code",
   "execution_count": 10,
   "id": "9ac60905",
   "metadata": {},
   "outputs": [
    {
     "data": {
      "text/plain": [
       "'THIS IS MY PYTHON CLASS'"
      ]
     },
     "execution_count": 10,
     "metadata": {},
     "output_type": "execute_result"
    }
   ],
   "source": [
    "a.upper()"
   ]
  },
  {
   "cell_type": "code",
   "execution_count": 11,
   "id": "6da67c52",
   "metadata": {},
   "outputs": [
    {
     "data": {
      "text/plain": [
       "'this is my python class'"
      ]
     },
     "execution_count": 11,
     "metadata": {},
     "output_type": "execute_result"
    }
   ],
   "source": [
    "a.lower()"
   ]
  },
  {
   "cell_type": "code",
   "execution_count": 13,
   "id": "e81934a7",
   "metadata": {},
   "outputs": [
    {
     "data": {
      "text/plain": [
       "'tHIS IS MY PYTHON CLASS'"
      ]
     },
     "execution_count": 13,
     "metadata": {},
     "output_type": "execute_result"
    }
   ],
   "source": [
    "swapres = a.swapcase() # swap upper case to lower and lower case to upper\n",
    "swapres"
   ]
  },
  {
   "cell_type": "code",
   "execution_count": 18,
   "id": "6f172419",
   "metadata": {},
   "outputs": [
    {
     "name": "stdout",
     "output_type": "stream",
     "text": [
      "strasse\n"
     ]
    },
    {
     "data": {
      "text/plain": [
       "'straße'"
      ]
     },
     "execution_count": 18,
     "metadata": {},
     "output_type": "execute_result"
    }
   ],
   "source": [
    "#casefold function converts upper case to lower case\n",
    "# but one difference is there , different \n",
    "a ='Straße'\n",
    "fold = a.casefold() # casefold is used to lower Ascii and \n",
    "#non Ascii special charecter\n",
    "print(fold)\n",
    "a.lower() # will conver only Ascii characters"
   ]
  },
  {
   "cell_type": "code",
   "execution_count": 22,
   "id": "7dd479a7",
   "metadata": {},
   "outputs": [
    {
     "name": "stdout",
     "output_type": "stream",
     "text": [
      "1\n",
      "0\n",
      "0\n",
      "3\n"
     ]
    }
   ],
   "source": [
    "print(a.count('S'))\n",
    "print(a.count('s'))\n",
    "print(a.count('z'))\n",
    "print(\"But has extensive libraries\".count('s'))"
   ]
  },
  {
   "cell_type": "code",
   "execution_count": 24,
   "id": "82e25d01",
   "metadata": {},
   "outputs": [
    {
     "name": "stdout",
     "output_type": "stream",
     "text": [
      "True\n"
     ]
    }
   ],
   "source": [
    "a = 'python'\n",
    "b = 'python'\n",
    "print(a is b) # this is not same because \n",
    "#For strings, Python uses a mechanism called interning for optimization \n",
    "#purposes. Interning means that some strings that are considered \"simple\" and \n",
    "#\"safe\" are stored in a common pool \n",
    "#to save memory and allow fast comparisons"
   ]
  },
  {
   "cell_type": "code",
   "execution_count": 27,
   "id": "8499b5fc",
   "metadata": {},
   "outputs": [
    {
     "name": "stdout",
     "output_type": "stream",
     "text": [
      "False\n"
     ]
    }
   ],
   "source": [
    "a = 'Straße'\n",
    "b = 'Straße'\n",
    "print(a is b)\n",
    "#However, not all strings are interned, especially those containing \n",
    "#special characters or those created dynamically.\n",
    "#The string 'Straße' contains a special character (ß), which may prevent \n",
    "#it from being interned. Therefore, a and b may be different objects \n",
    "#in memory even though they have the same value"
   ]
  },
  {
   "cell_type": "code",
   "execution_count": 28,
   "id": "da0d4982",
   "metadata": {},
   "outputs": [
    {
     "name": "stdout",
     "output_type": "stream",
     "text": [
      "False\n"
     ]
    }
   ],
   "source": [
    "a = 'python'\n",
    "b = a.casefold()\n",
    "print(a is b)"
   ]
  },
  {
   "cell_type": "code",
   "execution_count": 57,
   "id": "158cfd8c",
   "metadata": {},
   "outputs": [
    {
     "name": "stdout",
     "output_type": "stream",
     "text": [
      "3\n",
      "3\n"
     ]
    }
   ],
   "source": [
    "a = 'The python is like an ocean and I am learning it'\n",
    "print(a.count('a',27,-1 ))\n",
    "print(a.count('a',27, 40 ))   #total 'a' is 4 in the string"
   ]
  },
  {
   "cell_type": "code",
   "execution_count": 58,
   "id": "4889a907",
   "metadata": {},
   "outputs": [
    {
     "name": "stdout",
     "output_type": "stream",
     "text": [
      "1\n"
     ]
    }
   ],
   "source": [
    "print(a.count('a',34)) #going to start from 34th charcter to end of string"
   ]
  },
  {
   "cell_type": "code",
   "execution_count": 55,
   "id": "942d3c8b",
   "metadata": {},
   "outputs": [
    {
     "name": "stdout",
     "output_type": "stream",
     "text": [
      "2\n"
     ]
    }
   ],
   "source": [
    "print(a.count('a',-15,-1)) # starts from -15 to -1 , string always traverse \n",
    "#in +ve direction, means right to left not L-R"
   ]
  },
  {
   "cell_type": "code",
   "execution_count": 59,
   "id": "0e7ae663",
   "metadata": {},
   "outputs": [
    {
     "data": {
      "text/plain": [
       "19"
      ]
     },
     "execution_count": 59,
     "metadata": {},
     "output_type": "execute_result"
    }
   ],
   "source": [
    "a.index('a') # returns first occurance of charcter. "
   ]
  },
  {
   "cell_type": "code",
   "execution_count": 66,
   "id": "636fad54",
   "metadata": {},
   "outputs": [
    {
     "data": {
      "text/plain": [
       "33"
      ]
     },
     "execution_count": 66,
     "metadata": {},
     "output_type": "execute_result"
    }
   ],
   "source": [
    "a.index('a',30)"
   ]
  },
  {
   "cell_type": "code",
   "execution_count": 65,
   "id": "375e78e8",
   "metadata": {},
   "outputs": [
    {
     "data": {
      "text/plain": [
       "38"
      ]
     },
     "execution_count": 65,
     "metadata": {},
     "output_type": "execute_result"
    }
   ],
   "source": [
    "a.index('a',36,-1)"
   ]
  },
  {
   "cell_type": "code",
   "execution_count": 67,
   "id": "e4c2ad72",
   "metadata": {},
   "outputs": [
    {
     "data": {
      "text/plain": [
       "33"
      ]
     },
     "execution_count": 67,
     "metadata": {},
     "output_type": "execute_result"
    }
   ],
   "source": [
    "a.index('a',-15,-1)"
   ]
  },
  {
   "cell_type": "code",
   "execution_count": 69,
   "id": "a4e38f70",
   "metadata": {},
   "outputs": [
    {
     "ename": "ValueError",
     "evalue": "substring not found",
     "output_type": "error",
     "traceback": [
      "\u001b[1;31m---------------------------------------------------------------------------\u001b[0m",
      "\u001b[1;31mValueError\u001b[0m                                Traceback (most recent call last)",
      "Input \u001b[1;32mIn [69]\u001b[0m, in \u001b[0;36m<cell line: 1>\u001b[1;34m()\u001b[0m\n\u001b[1;32m----> 1\u001b[0m \u001b[43ma\u001b[49m\u001b[38;5;241;43m.\u001b[39;49m\u001b[43mindex\u001b[49m\u001b[43m(\u001b[49m\u001b[38;5;124;43m'\u001b[39;49m\u001b[38;5;124;43ma\u001b[39;49m\u001b[38;5;124;43m'\u001b[39;49m\u001b[43m,\u001b[49m\u001b[38;5;241;43m34\u001b[39;49m\u001b[43m,\u001b[49m\u001b[38;5;241;43m38\u001b[39;49m\u001b[43m)\u001b[49m\n",
      "\u001b[1;31mValueError\u001b[0m: substring not found"
     ]
    }
   ],
   "source": [
    "a.index('a',34,38) # 'a' is not found in between 34 to 37"
   ]
  },
  {
   "cell_type": "code",
   "execution_count": 70,
   "id": "2f117ea6",
   "metadata": {},
   "outputs": [
    {
     "data": {
      "text/plain": [
       "0"
      ]
     },
     "execution_count": 70,
     "metadata": {},
     "output_type": "execute_result"
    }
   ],
   "source": [
    "a.count('a',34,38) # checks from 34 to 38"
   ]
  },
  {
   "cell_type": "code",
   "execution_count": 72,
   "id": "2a8853c1",
   "metadata": {},
   "outputs": [
    {
     "name": "stdout",
     "output_type": "stream",
     "text": [
      "19\n"
     ]
    },
    {
     "data": {
      "text/plain": [
       "19"
      ]
     },
     "execution_count": 72,
     "metadata": {},
     "output_type": "execute_result"
    }
   ],
   "source": [
    "print(a.index('a'))\n",
    "a.find('a')"
   ]
  },
  {
   "cell_type": "code",
   "execution_count": 74,
   "id": "28a7a39a",
   "metadata": {},
   "outputs": [
    {
     "name": "stdout",
     "output_type": "stream",
     "text": [
      "-1\n"
     ]
    },
    {
     "ename": "ValueError",
     "evalue": "substring not found",
     "output_type": "error",
     "traceback": [
      "\u001b[1;31m---------------------------------------------------------------------------\u001b[0m",
      "\u001b[1;31mValueError\u001b[0m                                Traceback (most recent call last)",
      "Input \u001b[1;32mIn [74]\u001b[0m, in \u001b[0;36m<cell line: 2>\u001b[1;34m()\u001b[0m\n\u001b[0;32m      1\u001b[0m \u001b[38;5;28mprint\u001b[39m(a\u001b[38;5;241m.\u001b[39mfind(\u001b[38;5;124m'\u001b[39m\u001b[38;5;124mz\u001b[39m\u001b[38;5;124m'\u001b[39m))\n\u001b[1;32m----> 2\u001b[0m \u001b[38;5;28mprint\u001b[39m(\u001b[43ma\u001b[49m\u001b[38;5;241;43m.\u001b[39;49m\u001b[43mindex\u001b[49m\u001b[43m(\u001b[49m\u001b[38;5;124;43m'\u001b[39;49m\u001b[38;5;124;43mz\u001b[39;49m\u001b[38;5;124;43m'\u001b[39;49m\u001b[43m)\u001b[49m)\n",
      "\u001b[1;31mValueError\u001b[0m: substring not found"
     ]
    }
   ],
   "source": [
    "print(a.find('z')) # if string is not found , return -1\n",
    "print(a.index('z'))# if string not found throws error"
   ]
  },
  {
   "cell_type": "code",
   "execution_count": 75,
   "id": "15e69d67",
   "metadata": {},
   "outputs": [
    {
     "name": "stdout",
     "output_type": "stream",
     "text": [
      "38\n"
     ]
    }
   ],
   "source": [
    "print(a.rfind('a')) # it gives indexing from right to left"
   ]
  },
  {
   "cell_type": "code",
   "execution_count": 78,
   "id": "5bf601e2",
   "metadata": {},
   "outputs": [
    {
     "name": "stdout",
     "output_type": "stream",
     "text": [
      "33\n",
      "19\n"
     ]
    }
   ],
   "source": [
    "print(a.rfind('a',15,34))\n",
    "print(a.find('a',15,34))"
   ]
  },
  {
   "cell_type": "code",
   "execution_count": 79,
   "id": "86a52e89",
   "metadata": {},
   "outputs": [
    {
     "name": "stdout",
     "output_type": "stream",
     "text": [
      "-1\n"
     ]
    }
   ],
   "source": [
    "print(a.rfind('a',34,36)) # if string not founf it return -1"
   ]
  },
  {
   "cell_type": "code",
   "execution_count": 80,
   "id": "d3d243cc",
   "metadata": {},
   "outputs": [
    {
     "name": "stdout",
     "output_type": "stream",
     "text": [
      "['The', 'python', 'is', 'like', 'a', 'ocean', 'and', 'I', 'am', 'learning', 'it']\n"
     ]
    }
   ],
   "source": [
    "print(a.split())# breaks the string where space is present in the string"
   ]
  },
  {
   "cell_type": "code",
   "execution_count": 81,
   "id": "83153661",
   "metadata": {},
   "outputs": [
    {
     "name": "stdout",
     "output_type": "stream",
     "text": [
      "['May', 'your', 'day', 'be', 'luckiest']\n"
     ]
    }
   ],
   "source": [
    "b = 'May-your-day-be-luckiest'\n",
    "print(b.split('-')) #split string where the - is present."
   ]
  },
  {
   "cell_type": "code",
   "execution_count": 84,
   "id": "9582eb65",
   "metadata": {},
   "outputs": [
    {
     "name": "stdout",
     "output_type": "stream",
     "text": [
      "<class 'list'> ['cross', 'function']\n"
     ]
    }
   ],
   "source": [
    "c ='cross-function'.split('-')\n",
    "print(type(c) , c)  # input is string and returns list"
   ]
  },
  {
   "cell_type": "code",
   "execution_count": 85,
   "id": "eae3d190",
   "metadata": {},
   "outputs": [
    {
     "name": "stdout",
     "output_type": "stream",
     "text": [
      "cross@function\n"
     ]
    }
   ],
   "source": [
    "d = '@'.join(c)\n",
    "print(d) #now d is string , takes list as input."
   ]
  },
  {
   "cell_type": "code",
   "execution_count": 86,
   "id": "59f88da3",
   "metadata": {},
   "outputs": [
    {
     "name": "stdout",
     "output_type": "stream",
     "text": [
      "156e\n"
     ]
    }
   ],
   "source": [
    "a ='$156e$'\n",
    "print(a.strip('$'))"
   ]
  },
  {
   "cell_type": "code",
   "execution_count": 87,
   "id": "844d9a27",
   "metadata": {},
   "outputs": [
    {
     "name": "stdout",
     "output_type": "stream",
     "text": [
      "156e\n"
     ]
    }
   ],
   "source": [
    "b ='$156e$$$$'\n",
    "print(b.strip('$'))"
   ]
  },
  {
   "cell_type": "code",
   "execution_count": 88,
   "id": "e7a840aa",
   "metadata": {},
   "outputs": [
    {
     "name": "stdout",
     "output_type": "stream",
     "text": [
      "15$e5$fg\n"
     ]
    }
   ],
   "source": [
    "c = '$15$e5$fg' #middle string will ot be removed\n",
    "print(c.strip('$'))"
   ]
  },
  {
   "cell_type": "code",
   "execution_count": 89,
   "id": "75c7a5f3",
   "metadata": {},
   "outputs": [
    {
     "name": "stdout",
     "output_type": "stream",
     "text": [
      "156e$\n"
     ]
    }
   ],
   "source": [
    "#remove only Left hand side\n",
    "a ='$156e$'\n",
    "print(a.lstrip('$'))"
   ]
  },
  {
   "cell_type": "code",
   "execution_count": 90,
   "id": "f8e2a205",
   "metadata": {},
   "outputs": [
    {
     "name": "stdout",
     "output_type": "stream",
     "text": [
      "$156e\n"
     ]
    }
   ],
   "source": [
    "#remove only right hand side\n",
    "a ='$156e$'\n",
    "print(a.rstrip('$'))"
   ]
  },
  {
   "cell_type": "code",
   "execution_count": null,
   "id": "939d0756",
   "metadata": {},
   "outputs": [],
   "source": [
    "a = \"python\"\n",
    "#output = 'python++'\n",
    "#syntax : var_name.ljust( length_of_resultant_string, 'character')\n",
    "# syntax2 : var_name.ljust(len(str)+ number of character i want to add,'character')"
   ]
  },
  {
   "cell_type": "code",
   "execution_count": 91,
   "id": "834b66c0",
   "metadata": {},
   "outputs": [
    {
     "name": "stdout",
     "output_type": "stream",
     "text": [
      "$156e$++\n"
     ]
    }
   ],
   "source": [
    "print(a.ljust(8, '+')) # 8 means total length of string"
   ]
  },
  {
   "cell_type": "code",
   "execution_count": 92,
   "id": "7ac16a83",
   "metadata": {},
   "outputs": [
    {
     "name": "stdout",
     "output_type": "stream",
     "text": [
      "$156e$++\n"
     ]
    }
   ],
   "source": [
    "print(a.ljust(len(a)+2, '+'))"
   ]
  },
  {
   "cell_type": "code",
   "execution_count": 95,
   "id": "c57b23a0",
   "metadata": {},
   "outputs": [
    {
     "name": "stdout",
     "output_type": "stream",
     "text": [
      "$156e$\n"
     ]
    }
   ],
   "source": [
    "print(a.ljust(6, '+'))"
   ]
  },
  {
   "cell_type": "code",
   "execution_count": 96,
   "id": "de9b7d0e",
   "metadata": {},
   "outputs": [
    {
     "name": "stdout",
     "output_type": "stream",
     "text": [
      "--$156e$\n"
     ]
    }
   ],
   "source": [
    "print(a.rjust(8,'-'))"
   ]
  },
  {
   "cell_type": "code",
   "execution_count": 97,
   "id": "3b8b8939",
   "metadata": {},
   "outputs": [
    {
     "name": "stdout",
     "output_type": "stream",
     "text": [
      "$156e$\n"
     ]
    }
   ],
   "source": [
    "print(a.rjust(len(a)+0, '-'))"
   ]
  },
  {
   "cell_type": "code",
   "execution_count": 100,
   "id": "b07378df",
   "metadata": {},
   "outputs": [
    {
     "name": "stdout",
     "output_type": "stream",
     "text": [
      "++$156e$++\n"
     ]
    }
   ],
   "source": [
    "print(a.center(10,'+')) # + symbol spreads evenly since size 10 is perfect fit"
   ]
  },
  {
   "cell_type": "code",
   "execution_count": 104,
   "id": "8dda9b86",
   "metadata": {},
   "outputs": [
    {
     "name": "stdout",
     "output_type": "stream",
     "text": [
      "++12345++\n"
     ]
    }
   ],
   "source": [
    "a= '12345'\n",
    "print(a.center(9,'+'))# if the length of the string odd and length given odd\n",
    "#string + gets evenly distributed  2+ 5 +2"
   ]
  },
  {
   "cell_type": "code",
   "execution_count": 106,
   "id": "a4056bd2",
   "metadata": {},
   "outputs": [
    {
     "name": "stdout",
     "output_type": "stream",
     "text": [
      "+12345++\n"
     ]
    }
   ],
   "source": [
    "print(a.center(8,'+'))# if the string length is odd(5) and length is 5+3 = 8\n",
    "# preference given to right hand side, centre string takes 5, net 2 print\n",
    "#on right side and then last 1 string get printed on Left. 1+5+2"
   ]
  },
  {
   "cell_type": "code",
   "execution_count": 107,
   "id": "7eaab31a",
   "metadata": {},
   "outputs": [
    {
     "name": "stdout",
     "output_type": "stream",
     "text": [
      "+++1234++\n"
     ]
    }
   ],
   "source": [
    "a ='1234' # if string is even\n",
    "print(a.center(9,'+')) # preference given to left side, 4 + 5 = 3 + 4 +2\n"
   ]
  },
  {
   "cell_type": "code",
   "execution_count": 108,
   "id": "1899e542",
   "metadata": {},
   "outputs": [
    {
     "name": "stdout",
     "output_type": "stream",
     "text": [
      "++++1234++++\n"
     ]
    }
   ],
   "source": [
    "a ='1234' # if string is even\n",
    "print(a.center(12,'+')) # preference given to equal side, 4 + 8 = 4 + 4 + 4"
   ]
  },
  {
   "cell_type": "code",
   "execution_count": 109,
   "id": "c6445f18",
   "metadata": {},
   "outputs": [
    {
     "ename": "TypeError",
     "evalue": "The fill character must be exactly one character long",
     "output_type": "error",
     "traceback": [
      "\u001b[1;31m---------------------------------------------------------------------------\u001b[0m",
      "\u001b[1;31mTypeError\u001b[0m                                 Traceback (most recent call last)",
      "Input \u001b[1;32mIn [109]\u001b[0m, in \u001b[0;36m<cell line: 1>\u001b[1;34m()\u001b[0m\n\u001b[1;32m----> 1\u001b[0m \u001b[38;5;28mprint\u001b[39m(\u001b[43ma\u001b[49m\u001b[38;5;241;43m.\u001b[39;49m\u001b[43mcenter\u001b[49m\u001b[43m(\u001b[49m\u001b[38;5;241;43m8\u001b[39;49m\u001b[43m,\u001b[49m\u001b[38;5;124;43m'\u001b[39;49m\u001b[38;5;124;43m+-\u001b[39;49m\u001b[38;5;124;43m'\u001b[39;49m\u001b[43m)\u001b[49m)\n",
      "\u001b[1;31mTypeError\u001b[0m: The fill character must be exactly one character long"
     ]
    }
   ],
   "source": [
    "print(a.center(8,'+-'))"
   ]
  },
  {
   "cell_type": "code",
   "execution_count": 113,
   "id": "ed9391ce",
   "metadata": {},
   "outputs": [
    {
     "name": "stdout",
     "output_type": "stream",
     "text": [
      "++Data--\n"
     ]
    }
   ],
   "source": [
    "print(('Data'.center(8,' ')).replace(' ','+',2).replace(' ','-'))"
   ]
  },
  {
   "cell_type": "code",
   "execution_count": 116,
   "id": "67d6521c",
   "metadata": {},
   "outputs": [
    {
     "name": "stdout",
     "output_type": "stream",
     "text": [
      "++Data--\n"
     ]
    }
   ],
   "source": [
    "print(('Data'.rjust(6,'+')).ljust(6+2,'-'))"
   ]
  },
  {
   "cell_type": "code",
   "execution_count": 117,
   "id": "4a9f50e6",
   "metadata": {},
   "outputs": [
    {
     "name": "stdout",
     "output_type": "stream",
     "text": [
      "False\n"
     ]
    }
   ],
   "source": [
    "a = 'abc drg5'    # because of space it is returning false\n",
    "print(a.isalnum())"
   ]
  },
  {
   "cell_type": "code",
   "execution_count": 119,
   "id": "864d4ebc",
   "metadata": {},
   "outputs": [
    {
     "name": "stdout",
     "output_type": "stream",
     "text": [
      "True\n"
     ]
    }
   ],
   "source": [
    "a = 'abcDrg5'    # because of space it is returning false\n",
    "print(a.isalnum())"
   ]
  },
  {
   "cell_type": "code",
   "execution_count": 120,
   "id": "86cd2b13",
   "metadata": {},
   "outputs": [
    {
     "name": "stdout",
     "output_type": "stream",
     "text": [
      "False\n"
     ]
    }
   ],
   "source": [
    "a = 'abCd4'\n",
    "print(a.isalpha())"
   ]
  },
  {
   "cell_type": "code",
   "execution_count": 121,
   "id": "97564efd",
   "metadata": {},
   "outputs": [
    {
     "name": "stdout",
     "output_type": "stream",
     "text": [
      "True\n"
     ]
    }
   ],
   "source": [
    "a = 'abCd'\n",
    "print(a.isalpha())"
   ]
  },
  {
   "cell_type": "code",
   "execution_count": 123,
   "id": "8e93c954",
   "metadata": {},
   "outputs": [
    {
     "name": "stdout",
     "output_type": "stream",
     "text": [
      "True\n",
      "False\n"
     ]
    }
   ],
   "source": [
    "a ='ABCD'\n",
    "print(a.isupper())\n",
    "print('ABCD'.islower())"
   ]
  },
  {
   "cell_type": "code",
   "execution_count": 133,
   "id": "1b6976e6",
   "metadata": {},
   "outputs": [
    {
     "name": "stdout",
     "output_type": "stream",
     "text": [
      "True\n",
      "True\n",
      "False\n",
      "True\n"
     ]
    }
   ],
   "source": [
    "a = 'The Apple'   \n",
    "print(a.istitle())\n",
    "print(\" \".isspace())# only \\n, \\t, \\v, \\r space character are allowed\n",
    "print(\"The Apple\".isspace())\n",
    "print(\"\\n\".isspace())"
   ]
  },
  {
   "cell_type": "code",
   "execution_count": 136,
   "id": "a0c318f1",
   "metadata": {},
   "outputs": [
    {
     "name": "stdout",
     "output_type": "stream",
     "text": [
      "True\n",
      "True\n",
      "True\n"
     ]
    }
   ],
   "source": [
    "a = 'The data science'\n",
    "print(a.startswith('T'))\n",
    "print(a.startswith('The'))\n",
    "print(a.startswith('The data science'))"
   ]
  },
  {
   "cell_type": "code",
   "execution_count": 137,
   "id": "52941ddb",
   "metadata": {},
   "outputs": [
    {
     "name": "stdout",
     "output_type": "stream",
     "text": [
      "True\n"
     ]
    }
   ],
   "source": [
    "print(a.endswith('ce'))"
   ]
  },
  {
   "cell_type": "code",
   "execution_count": null,
   "id": "d1a4b626",
   "metadata": {},
   "outputs": [],
   "source": []
  }
 ],
 "metadata": {
  "kernelspec": {
   "display_name": "Python 3 (ipykernel)",
   "language": "python",
   "name": "python3"
  },
  "language_info": {
   "codemirror_mode": {
    "name": "ipython",
    "version": 3
   },
   "file_extension": ".py",
   "mimetype": "text/x-python",
   "name": "python",
   "nbconvert_exporter": "python",
   "pygments_lexer": "ipython3",
   "version": "3.10.6"
  }
 },
 "nbformat": 4,
 "nbformat_minor": 5
}
